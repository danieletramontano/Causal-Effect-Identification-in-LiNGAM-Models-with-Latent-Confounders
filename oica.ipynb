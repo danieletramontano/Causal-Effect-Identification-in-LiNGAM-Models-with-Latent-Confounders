{
 "cells": [
  {
   "cell_type": "code",
   "execution_count": 1,
   "metadata": {},
   "outputs": [],
   "source": [
    "%load_ext autoreload\n",
    "%autoreload 2"
   ]
  },
  {
   "cell_type": "code",
   "execution_count": 2,
   "metadata": {},
   "outputs": [],
   "source": [
    "import numpy as np\n",
    "import networkx as nx\n",
    "import matplotlib.pyplot as plt\n",
    "from functions import hid_var_data \n",
    "\n",
    "import torch\n",
    "import torch.nn as nn\n",
    "import torch.nn.functional as F\n",
    "import torch.optim as optim\n",
    "from torch.utils.data import DataLoader\n",
    "from torch.distributions.multivariate_normal import MultivariateNormal\n",
    "\n",
    "%matplotlib inline"
   ]
  },
  {
   "cell_type": "code",
   "execution_count": 3,
   "metadata": {},
   "outputs": [
    {
     "data": {
      "image/png": "[encoded data removed]",
      "text/plain": [
       "<Figure size 640x480 with 1 Axes>"
      ]
     },
     "metadata": {},
     "output_type": "display_data"
    }
   ],
   "source": [
    "iv_adj = np.array([[0,0,1,1],[0,0,1,0],[0,0,0,1],[0,0,0,0]])\n",
    "graph = nx.DiGraph(iv_adj)\n",
    "nx.draw_networkx(graph)\n",
    "\n",
    "latent = 1\n",
    "observed = 3\n",
    "n_samples = 10000\n",
    "lambdas = [0,10]\n",
    "moms = [0,1]\n",
    "lr = 0.01\n",
    "epochs = 100\n",
    "w_init = 'given'\n",
    "pseudoinverse = False\n",
    "withening = True\n",
    "\n",
    "data, params, W_with, w_true = hid_var_data(latent, observed, graph, n_samples, withening)"
   ]
  },
  {
   "cell_type": "code",
   "execution_count": 4,
   "metadata": {},
   "outputs": [],
   "source": [
    "class Sources(nn.Module):\n",
    "    def __init__(self, input_dim, output_dim, hidden_dim):\n",
    "        super(Sources, self).__init__()\n",
    "        # an affine operation: y = Wx + b\n",
    "        self.fc1 = nn.Linear(input_dim, hidden_dim)\n",
    "        self.fc2 = nn.Linear(hidden_dim, hidden_dim)\n",
    "        self.fc3 = nn.Linear(hidden_dim, hidden_dim)\n",
    "        self.fc4 = nn.Linear(hidden_dim, output_dim)\n",
    "\n",
    "    def forward(self, x):\n",
    "        x = F.relu(self.fc1(x))\n",
    "        x = F.relu(self.fc2(x))\n",
    "        x = F.relu(self.fc3(x))\n",
    "        x = self.fc4(x)\n",
    "        return x"
   ]
  },
  {
   "cell_type": "code",
   "execution_count": 5,
   "metadata": {},
   "outputs": [],
   "source": [
    "def kernel(x, y, sigma=1):\n",
    "    log_val = -torch.sum((x - y)**2) / (2*sigma)\n",
    "    return torch.exp(log_val)\n",
    "\n",
    "def kernel_trick(x, y, sigma):\n",
    "    n = x.shape[0]\n",
    "    m = y.shape[0]\n",
    "    loss = 0\n",
    "    for x_row in x:\n",
    "        for y_row in y:\n",
    "            loss += kernel(x_row, y_row, sigma)\n",
    "    \n",
    "    loss /= n*m\n",
    "    return loss"
   ]
  },
  {
   "cell_type": "code",
   "execution_count": 6,
   "metadata": {},
   "outputs": [],
   "source": [
    "# Generate a batch of i.i.d samples from Gaussian distribution\n",
    "source_dim = 4\n",
    "m = MultivariateNormal(torch.zeros(source_dim), torch.eye(source_dim))"
   ]
  },
  {
   "cell_type": "code",
   "execution_count": 7,
   "metadata": {},
   "outputs": [],
   "source": [
    "input_dim = 1\n",
    "output_dim = 1\n",
    "hidden_dim = 5\n",
    "source0 = Sources(input_dim, output_dim, hidden_dim)\n",
    "source1 = Sources(input_dim, output_dim, hidden_dim)\n",
    "source2 = Sources(input_dim, output_dim, hidden_dim)\n",
    "source3 = Sources(input_dim, output_dim, hidden_dim)\n",
    "sources = [source0, source1, source2, source3]\n",
    "\n",
    "sigma = 1\n",
    "\n",
    "mixture_dim = 3\n",
    "A = torch.randn((source_dim, mixture_dim), dtype=torch.float, requires_grad=True)\n",
    "\n",
    "lr = 0.001\n",
    "params = list(source0.parameters()) + list(source1.parameters()) + list(source2.parameters()) + list(source3.parameters()) + [A]\n",
    "optimizer = optim.Adam(params, lr=lr)\n",
    "\n",
    "batch_size = 32\n",
    "epochs = 10\n",
    "data_loader = DataLoader(data, batch_size=batch_size, shuffle=True, drop_last=True)"
   ]
  },
  {
   "cell_type": "code",
   "execution_count": 9,
   "metadata": {},
   "outputs": [
    {
     "name": "stdout",
     "output_type": "stream",
     "text": [
      "I am here!\n",
      "[1,     8] loss: 0.002\n",
      "I am here!\n",
      "[1,    16] loss: 0.002\n",
      "I am here!\n",
      "[1,    24] loss: 0.003\n",
      "I am here!\n",
      "[1,    32] loss: 0.003\n",
      "I am here!\n",
      "[1,    40] loss: 0.003\n",
      "I am here!\n",
      "[1,    48] loss: 0.004\n",
      "I am here!\n",
      "[1,    56] loss: 0.001\n",
      "I am here!\n",
      "[1,    64] loss: 0.003\n",
      "I am here!\n",
      "[1,    72] loss: 0.003\n",
      "I am here!\n",
      "[1,    80] loss: 0.003\n",
      "I am here!\n",
      "[1,    88] loss: 0.003\n"
     ]
    },
    {
     "ename": "KeyboardInterrupt",
     "evalue": "",
     "output_type": "error",
     "traceback": [
      "\u001b[0;31m---------------------------------------------------------------------------\u001b[0m",
      "\u001b[0;31mKeyboardInterrupt\u001b[0m                         Traceback (most recent call last)",
      "Cell \u001b[0;32mIn[9], line 21\u001b[0m\n\u001b[1;32m     19\u001b[0m loss \u001b[39m+\u001b[39m\u001b[39m=\u001b[39m kernel_trick(true_mixtures, true_mixtures, sigma)\n\u001b[1;32m     20\u001b[0m loss \u001b[39m-\u001b[39m\u001b[39m=\u001b[39m \u001b[39m2\u001b[39m\u001b[39m*\u001b[39mkernel_trick(pred_mixtures, true_mixtures, sigma)\n\u001b[0;32m---> 21\u001b[0m loss\u001b[39m.\u001b[39;49mbackward()\n\u001b[1;32m     22\u001b[0m optimizer\u001b[39m.\u001b[39mstep()\n\u001b[1;32m     23\u001b[0m running_loss \u001b[39m+\u001b[39m\u001b[39m=\u001b[39m loss\u001b[39m.\u001b[39mitem()\n",
      "File \u001b[0;32m~/anaconda3/lib/python3.9/site-packages/torch/_tensor.py:487\u001b[0m, in \u001b[0;36mTensor.backward\u001b[0;34m(self, gradient, retain_graph, create_graph, inputs)\u001b[0m\n\u001b[1;32m    477\u001b[0m \u001b[39mif\u001b[39;00m has_torch_function_unary(\u001b[39mself\u001b[39m):\n\u001b[1;32m    478\u001b[0m     \u001b[39mreturn\u001b[39;00m handle_torch_function(\n\u001b[1;32m    479\u001b[0m         Tensor\u001b[39m.\u001b[39mbackward,\n\u001b[1;32m    480\u001b[0m         (\u001b[39mself\u001b[39m,),\n\u001b[0;32m   (...)\u001b[0m\n\u001b[1;32m    485\u001b[0m         inputs\u001b[39m=\u001b[39minputs,\n\u001b[1;32m    486\u001b[0m     )\n\u001b[0;32m--> 487\u001b[0m torch\u001b[39m.\u001b[39;49mautograd\u001b[39m.\u001b[39;49mbackward(\n\u001b[1;32m    488\u001b[0m     \u001b[39mself\u001b[39;49m, gradient, retain_graph, create_graph, inputs\u001b[39m=\u001b[39;49minputs\n\u001b[1;32m    489\u001b[0m )\n",
      "File \u001b[0;32m~/anaconda3/lib/python3.9/site-packages/torch/autograd/__init__.py:200\u001b[0m, in \u001b[0;36mbackward\u001b[0;34m(tensors, grad_tensors, retain_graph, create_graph, grad_variables, inputs)\u001b[0m\n\u001b[1;32m    195\u001b[0m     retain_graph \u001b[39m=\u001b[39m create_graph\n\u001b[1;32m    197\u001b[0m \u001b[39m# The reason we repeat same the comment below is that\u001b[39;00m\n\u001b[1;32m    198\u001b[0m \u001b[39m# some Python versions print out the first line of a multi-line function\u001b[39;00m\n\u001b[1;32m    199\u001b[0m \u001b[39m# calls in the traceback and some print out the last line\u001b[39;00m\n\u001b[0;32m--> 200\u001b[0m Variable\u001b[39m.\u001b[39;49m_execution_engine\u001b[39m.\u001b[39;49mrun_backward(  \u001b[39m# Calls into the C++ engine to run the backward pass\u001b[39;49;00m\n\u001b[1;32m    201\u001b[0m     tensors, grad_tensors_, retain_graph, create_graph, inputs,\n\u001b[1;32m    202\u001b[0m     allow_unreachable\u001b[39m=\u001b[39;49m\u001b[39mTrue\u001b[39;49;00m, accumulate_grad\u001b[39m=\u001b[39;49m\u001b[39mTrue\u001b[39;49;00m)\n",
      "\u001b[0;31mKeyboardInterrupt\u001b[0m: "
     ]
    }
   ],
   "source": [
    "for epoch in range(epochs):\n",
    "    running_loss = 0.0\n",
    "    for i, true_mixtures in enumerate(data_loader):\n",
    "        mini_batch = m.sample((batch_size, ))\n",
    "\n",
    "        pred_source = mini_batch[:, 0]\n",
    "        pred_source = pred_source[:, None]\n",
    "        pred_source = sources[0](pred_source)\n",
    "        pred_sources = pred_source\n",
    "        for j in range(1, source_dim):\n",
    "            pred_source = mini_batch[:, j]\n",
    "            pred_source = pred_source[:, None]\n",
    "            pred_source = sources[j](pred_source)\n",
    "            pred_sources = torch.hstack((pred_sources, pred_source))\n",
    "        pred_mixtures = torch.matmul(pred_sources, A)\n",
    "\n",
    "        optimizer.zero_grad()\n",
    "        loss = kernel_trick(pred_mixtures, pred_mixtures, sigma)\n",
    "        loss += kernel_trick(true_mixtures, true_mixtures, sigma)\n",
    "        loss -= 2*kernel_trick(pred_mixtures, true_mixtures, sigma)\n",
    "        loss.backward()\n",
    "        optimizer.step()\n",
    "        running_loss += loss.item()\n",
    "        if i % 8 == 7:    # print every 8 mini-batches\n",
    "            print(f'[{epoch + 1}, {i + 1:5d}] loss: {running_loss / 8:.3f}')\n",
    "            running_loss = 0.0\n"
   ]
  },
  {
   "cell_type": "code",
   "execution_count": null,
   "metadata": {},
   "outputs": [],
   "source": []
  }
 ],
 "metadata": {
  "kernelspec": {
   "display_name": "cross-moments",
   "language": "python",
   "name": "python3"
  },
  "language_info": {
   "codemirror_mode": {
    "name": "ipython",
    "version": 3
   },
   "file_extension": ".py",
   "mimetype": "text/x-python",
   "name": "python",
   "nbconvert_exporter": "python",
   "pygments_lexer": "ipython3",
   "version": "3.9.16"
  },
  "orig_nbformat": 4
 },
 "nbformat": 4,
 "nbformat_minor": 2
}
